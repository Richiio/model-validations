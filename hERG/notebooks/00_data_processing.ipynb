{
 "cells": [
  {
   "cell_type": "code",
   "execution_count": 13,
   "metadata": {},
   "outputs": [],
   "source": [
    "import os\n",
    "import pandas as pd\n",
    "from rdkit import Chem\n",
    "\n",
    "DATAPATH = \"../data\"\n",
    "SMICOL = \"smiles\"\n",
    "INCHICOL = \"inchikey\"\n",
    "ACTCOL = \"activity\""
   ]
  },
  {
   "cell_type": "markdown",
   "metadata": {},
   "source": [
    "# Compare Model Training datasets\n",
    "\n",
    "First, we clean up the original files and add the InChiKey of the smiles if not available. We want to create a dataframe with three columns, smiles, inchikey and activity. We will store each dataset under data/model_datasets/{model_name}_processed.csv"
   ]
  },
  {
   "cell_type": "code",
   "execution_count": 14,
   "metadata": {},
   "outputs": [
    {
     "name": "stderr",
     "output_type": "stream",
     "text": [
      "[10:44:57] non-ring atom 10 marked aromatic\n",
      "[10:44:57] non-ring atom 12 marked aromatic\n",
      "[10:44:57] non-ring atom 10 marked aromatic\n",
      "[10:44:57] non-ring atom 14 marked aromatic\n",
      "[10:44:57] non-ring atom 10 marked aromatic\n",
      "[10:44:57] non-ring atom 10 marked aromatic\n",
      "[10:44:57] non-ring atom 10 marked aromatic\n",
      "[10:44:58] non-ring atom 21 marked aromatic\n",
      "[10:44:58] non-ring atom 10 marked aromatic\n",
      "[10:44:58] non-ring atom 10 marked aromatic\n",
      "[10:44:58] non-ring atom 12 marked aromatic\n",
      "[10:44:58] non-ring atom 12 marked aromatic\n",
      "[10:44:58] Explicit valence for atom # 0 N, 4, is greater than permitted\n",
      "[10:44:58] Explicit valence for atom # 0 N, 4, is greater than permitted\n",
      "[10:44:59] Explicit valence for atom # 0 N, 4, is greater than permitted\n",
      "[10:44:59] Explicit valence for atom # 0 N, 4, is greater than permitted\n",
      "[10:44:59] Explicit valence for atom # 0 N, 4, is greater than permitted\n",
      "[10:44:59] Explicit valence for atom # 0 N, 4, is greater than permitted\n",
      "[10:44:59] Explicit valence for atom # 0 N, 4, is greater than permitted\n",
      "[10:44:59] Explicit valence for atom # 0 N, 4, is greater than permitted\n",
      "[10:44:59] Explicit valence for atom # 0 N, 4, is greater than permitted\n",
      "[10:44:59] Explicit valence for atom # 0 N, 4, is greater than permitted\n",
      "[10:44:59] Explicit valence for atom # 0 N, 4, is greater than permitted\n",
      "[10:44:59] Explicit valence for atom # 0 N, 4, is greater than permitted\n",
      "[10:44:59] Explicit valence for atom # 0 N, 4, is greater than permitted\n",
      "[10:44:59] Explicit valence for atom # 0 N, 4, is greater than permitted\n",
      "[10:44:59] Explicit valence for atom # 0 N, 4, is greater than permitted\n",
      "[10:44:59] Explicit valence for atom # 0 N, 4, is greater than permitted\n",
      "[10:44:59] Explicit valence for atom # 0 N, 4, is greater than permitted\n",
      "[10:44:59] Explicit valence for atom # 0 N, 4, is greater than permitted\n",
      "[10:45:00] Explicit valence for atom # 0 N, 5, is greater than permitted\n",
      "[10:45:00] Explicit valence for atom # 0 N, 5, is greater than permitted\n",
      "[10:45:00] Explicit valence for atom # 0 N, 5, is greater than permitted\n",
      "[10:45:00] Explicit valence for atom # 0 N, 5, is greater than permitted\n",
      "[10:45:00] Explicit valence for atom # 0 N, 5, is greater than permitted\n",
      "[10:45:00] Explicit valence for atom # 0 N, 5, is greater than permitted\n",
      "[10:45:00] non-ring atom 11 marked aromatic\n",
      "[10:45:00] non-ring atom 13 marked aromatic\n",
      "[10:45:00] non-ring atom 10 marked aromatic\n",
      "[10:45:00] non-ring atom 10 marked aromatic\n",
      "[10:45:00] non-ring atom 11 marked aromatic\n",
      "[10:45:00] non-ring atom 10 marked aromatic\n",
      "[10:45:00] non-ring atom 10 marked aromatic\n",
      "[10:45:00] non-ring atom 9 marked aromatic\n",
      "[10:45:00] non-ring atom 21 marked aromatic\n",
      "[10:45:00] non-ring atom 10 marked aromatic\n",
      "[10:45:00] non-ring atom 10 marked aromatic\n",
      "[10:45:00] non-ring atom 13 marked aromatic\n",
      "[10:45:00] non-ring atom 10 marked aromatic\n"
     ]
    },
    {
     "name": "stdout",
     "output_type": "stream",
     "text": [
      "Smiles eliminated:  49\n"
     ]
    }
   ],
   "source": [
    "#eos30gr\n",
    "\n",
    "train_data = pd.read_excel(os.path.join(DATAPATH, \"model_datasets\", \"eos30gr.xlsx\"), sheet_name=0)\n",
    "test_data = pd.read_excel(os.path.join(DATAPATH, \"model_datasets\", \"eos30gr.xlsx\"), sheet_name=1)\n",
    "valid_data = pd.read_excel(os.path.join(DATAPATH, \"model_datasets\", \"eos30gr.xlsx\"), sheet_name=2)\n",
    "eos30gr = pd.concat([train_data, test_data, valid_data])\n",
    "\n",
    "inchikeys = []\n",
    "for smi in eos30gr[\"Smiles\"]:\n",
    "    mol = Chem.MolFromSmiles(smi)\n",
    "    if mol is not None:\n",
    "        inchikey = Chem.MolToInchiKey(mol)\n",
    "    else:\n",
    "        inchikey = None\n",
    "    inchikeys += [inchikey]\n",
    "\n",
    "eos30gr[INCHICOL] = inchikeys\n",
    "total_len = len(eos30gr)\n",
    "eos30gr.dropna(subset=[INCHICOL], inplace=True)\n",
    "print(\"Smiles eliminated: \", total_len-len(eos30gr))\n",
    "eos30gr.rename(columns={\"Smiles\":SMICOL, \"activity10\":ACTCOL}, inplace=True) #looking at the model, activity 10 was chosen for activity\n",
    "eos30gr = eos30gr[[SMICOL, INCHICOL, ACTCOL]]\n",
    "eos30gr.to_csv(os.path.join(DATAPATH, \"model_datasets\", \"eos30gr_processed.csv\"), index=False)\n"
   ]
  },
  {
   "cell_type": "code",
   "execution_count": null,
   "metadata": {},
   "outputs": [],
   "source": [
    "#eos2ta5"
   ]
  },
  {
   "cell_type": "code",
   "execution_count": null,
   "metadata": {},
   "outputs": [],
   "source": [
    "#eos4tcc"
   ]
  },
  {
   "cell_type": "code",
   "execution_count": null,
   "metadata": {},
   "outputs": [],
   "source": [
    "#eos30f3"
   ]
  },
  {
   "cell_type": "code",
   "execution_count": null,
   "metadata": {},
   "outputs": [],
   "source": [
    "#eos43at"
   ]
  },
  {
   "cell_type": "markdown",
   "metadata": {},
   "source": [
    "Once all the datasets have been cleaned, we can compare them"
   ]
  },
  {
   "cell_type": "code",
   "execution_count": null,
   "metadata": {},
   "outputs": [],
   "source": [
    "models = [\"eos2ta5\", \"eos4tcc\", \"eos30f3\", \"eos30gr\", \"eos43at\"]\n",
    "\n",
    "# load the datasets and make comparisons\n",
    "\n",
    "# proportion of actives and inactives in each dataset\n",
    "\n",
    "# number of repeated smiles between models"
   ]
  },
  {
   "cell_type": "markdown",
   "metadata": {},
   "source": [
    "# Build test dataset\n",
    "\n",
    "We collate in a single file the data from the NCATS repository and eliminate any duplicate molecules that exist in the training sets of the models already."
   ]
  },
  {
   "cell_type": "code",
   "execution_count": 16,
   "metadata": {},
   "outputs": [],
   "source": [
    "df1 = pd.read_csv(os.path.join(DATAPATH, \"test_data\", \"training_set_ncats.csv\"))\n",
    "df2 = pd.read_csv(os.path.join(DATAPATH, \"test_data\", \"validation_set_ncats.csv\"))"
   ]
  },
  {
   "cell_type": "code",
   "execution_count": 20,
   "metadata": {},
   "outputs": [
    {
     "data": {
      "text/plain": [
       "Index(['smiles', 'activity', 'source'], dtype='object')"
      ]
     },
     "execution_count": 20,
     "metadata": {},
     "output_type": "execute_result"
    }
   ],
   "source": [
    "df1.columns"
   ]
  },
  {
   "cell_type": "code",
   "execution_count": 22,
   "metadata": {},
   "outputs": [
    {
     "name": "stdout",
     "output_type": "stream",
     "text": [
      "Smiles eliminated:  0\n",
      "Smiles eliminated:  32\n"
     ]
    }
   ],
   "source": [
    "#merge and remove duplicates. Obtain InChiKeys for all\n",
    "\n",
    "df = pd.concat([df1, df2])\n",
    "inchikeys = []\n",
    "for smi in df[\"smiles\"]:\n",
    "    mol = Chem.MolFromSmiles(smi)\n",
    "    if mol is not None:\n",
    "        inchikey = Chem.MolToInchiKey(mol)\n",
    "    else:\n",
    "        inchikey = None\n",
    "    inchikeys += [inchikey]\n",
    "\n",
    "df[INCHICOL] = inchikeys\n",
    "total_len = len(df)\n",
    "df.dropna(subset=[INCHICOL], inplace=True)\n",
    "print(\"Smiles eliminated: \", total_len-len(df))\n",
    "total_len = len(df)\n",
    "df.drop_duplicates(subset=[SMICOL], inplace=True)\n",
    "print(\"Smiles eliminated: \", total_len-len(df))\n",
    "df = df[[SMICOL, INCHICOL, ACTCOL]]\n",
    "df.to_csv(os.path.join(DATAPATH, \"test_data\", \"ncats.csv\"), index=False)\n"
   ]
  },
  {
   "cell_type": "code",
   "execution_count": null,
   "metadata": {},
   "outputs": [],
   "source": [
    "# Now, from the all NCATS data, we eliminate duplicated molecules with training set"
   ]
  }
 ],
 "metadata": {
  "kernelspec": {
   "display_name": "chem",
   "language": "python",
   "name": "python3"
  },
  "language_info": {
   "codemirror_mode": {
    "name": "ipython",
    "version": 3
   },
   "file_extension": ".py",
   "mimetype": "text/x-python",
   "name": "python",
   "nbconvert_exporter": "python",
   "pygments_lexer": "ipython3",
   "version": "3.10.9"
  }
 },
 "nbformat": 4,
 "nbformat_minor": 2
}
